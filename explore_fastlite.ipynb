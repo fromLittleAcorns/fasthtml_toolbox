{
 "cells": [
  {
   "cell_type": "code",
   "execution_count": 11,
   "id": "0b741aff-5408-4b8e-a5f6-bfd636ef1d82",
   "metadata": {},
   "outputs": [],
   "source": [
    "from fastlite import *\n",
    "from dataclasses import dataclass\n",
    "from fastcore.utils import *\n",
    "from typing import Optional"
   ]
  },
  {
   "cell_type": "markdown",
   "id": "ac517a9f-1449-4285-bf48-68601bd88cd5",
   "metadata": {},
   "source": [
    "### Create table using parameters and then create a dataclass from that "
   ]
  },
  {
   "cell_type": "code",
   "execution_count": 7,
   "id": "8da89a5e-5880-48fc-8042-dc3400495cb3",
   "metadata": {},
   "outputs": [],
   "source": [
    "db = database(\":memory:\")"
   ]
  },
  {
   "cell_type": "code",
   "execution_count": 8,
   "id": "28293bbe-4fe2-4056-883a-566afb6d487c",
   "metadata": {},
   "outputs": [],
   "source": [
    "# @dataclass\n",
    "class User:\n",
    "    id: int\n",
    "    username: str\n",
    "    email: str\n",
    "    password: str\n",
    "    role: str = \"user\"\n",
    "    created_at: str = \"\"\n",
    "    last_login: str = \"\"\n",
    "    active: bool = True"
   ]
  },
  {
   "cell_type": "code",
   "execution_count": 9,
   "id": "b51ad7c4-5144-4c1a-901e-59edda384739",
   "metadata": {},
   "outputs": [],
   "source": [
    "user = db.create(User, pk=\"id\")"
   ]
  },
  {
   "cell_type": "code",
   "execution_count": 16,
   "id": "40458231-f4e5-4e11-b87d-5b860a781295",
   "metadata": {},
   "outputs": [
    {
     "name": "stdout",
     "output_type": "stream",
     "text": [
      "CREATE TABLE [user] (\n",
      "   [id] INTEGER PRIMARY KEY,\n",
      "   [username] TEXT,\n",
      "   [email] TEXT,\n",
      "   [password] TEXT,\n",
      "   [role] TEXT,\n",
      "   [created_at] TEXT,\n",
      "   [last_login] TEXT,\n",
      "   [active] INTEGER\n",
      ")\n"
     ]
    }
   ],
   "source": [
    "print(user.schema)"
   ]
  },
  {
   "cell_type": "code",
   "execution_count": 17,
   "id": "aad8406b-ac6b-44c4-9f64-17e3e6a77c80",
   "metadata": {},
   "outputs": [
    {
     "data": {
      "text/plain": [
       "User(id=1, username='user1', email='u1@mail.com', password='abc', role='user', created_at='', last_login='', active=1)"
      ]
     },
     "execution_count": 17,
     "metadata": {},
     "output_type": "execute_result"
    }
   ],
   "source": [
    "# Add users\n",
    "user.insert(User(username=\"user1\", email=\"u1@mail.com\", role=\"user\", password=\"abc\"))"
   ]
  },
  {
   "cell_type": "code",
   "execution_count": 18,
   "id": "bea3e850-e1cc-4056-9a49-c484c11472c5",
   "metadata": {},
   "outputs": [
    {
     "data": {
      "text/plain": [
       "User(id=2, username='user2', email='u2@mail.com', password='def', role='user', created_at='', last_login='', active=1)"
      ]
     },
     "execution_count": 18,
     "metadata": {},
     "output_type": "execute_result"
    }
   ],
   "source": [
    "user.insert(User(username=\"user2\", email=\"u2@mail.com\", role=\"user\", password=\"def\"))"
   ]
  },
  {
   "cell_type": "code",
   "execution_count": 21,
   "id": "ef0d73eb-f9e4-4d7c-8b71-135c4b33d2b8",
   "metadata": {},
   "outputs": [],
   "source": [
    "# Test retrieving a user"
   ]
  },
  {
   "cell_type": "code",
   "execution_count": 22,
   "id": "5e381cd1-7c07-4e66-847a-f4fc253a3849",
   "metadata": {},
   "outputs": [],
   "source": [
    "query = \"SELECT user.id FROM user where user.username='user1'\""
   ]
  },
  {
   "cell_type": "code",
   "execution_count": 23,
   "id": "b0f17e7d-353d-4d19-8ed8-c4f8c7563856",
   "metadata": {},
   "outputs": [
    {
     "data": {
      "text/plain": [
       "[{'id': 1}]"
      ]
     },
     "execution_count": 23,
     "metadata": {},
     "output_type": "execute_result"
    }
   ],
   "source": [
    "db.q(query)"
   ]
  },
  {
   "cell_type": "code",
   "execution_count": 24,
   "id": "c36d78ce-3975-442b-bb84-7397bf568036",
   "metadata": {},
   "outputs": [],
   "source": [
    "query = \"SELECT * FROM user where user.username='user1'\""
   ]
  },
  {
   "cell_type": "code",
   "execution_count": 25,
   "id": "48982eba-f623-4828-b08c-fc517c6e8160",
   "metadata": {},
   "outputs": [
    {
     "data": {
      "text/plain": [
       "[{'id': 1,\n",
       "  'username': 'user1',\n",
       "  'email': 'u1@mail.com',\n",
       "  'password': 'abc',\n",
       "  'role': 'user',\n",
       "  'created_at': '',\n",
       "  'last_login': '',\n",
       "  'active': 1}]"
      ]
     },
     "execution_count": 25,
     "metadata": {},
     "output_type": "execute_result"
    }
   ],
   "source": [
    "db.q(query)"
   ]
  },
  {
   "cell_type": "code",
   "execution_count": 14,
   "id": "0b03e107-404c-4ab1-965c-685c6da9ea97",
   "metadata": {},
   "outputs": [
    {
     "data": {
      "text/plain": [
       "fastlite.core.User"
      ]
     },
     "execution_count": 14,
     "metadata": {},
     "output_type": "execute_result"
    }
   ],
   "source": [
    "test_class = user.dataclass()\n",
    "test_class"
   ]
  },
  {
   "cell_type": "code",
   "execution_count": 20,
   "id": "3420a6c7-42ee-45e8-bcb0-479aca892e8d",
   "metadata": {},
   "outputs": [
    {
     "data": {
      "text/markdown": [
       "```sql\n",
       "CREATE TABLE [user] (\n",
       "   [id] INTEGER PRIMARY KEY,\n",
       "   [username] TEXT,\n",
       "   [email] TEXT,\n",
       "   [password] TEXT,\n",
       "   [role] TEXT,\n",
       "   [created_at] TEXT,\n",
       "   [last_login] TEXT,\n",
       "   [active] INTEGER\n",
       ")\n",
       "```"
      ],
      "text/plain": [
       "<IPython.core.display.Markdown object>"
      ]
     },
     "execution_count": 20,
     "metadata": {},
     "output_type": "execute_result"
    }
   ],
   "source": [
    "hl_md(user.schema, 'sql')"
   ]
  },
  {
   "cell_type": "code",
   "execution_count": 26,
   "id": "f8b846b3-425d-4017-98da-6a018da3d61c",
   "metadata": {},
   "outputs": [],
   "source": [
    "# Make username a primary key to simplify obtaining users"
   ]
  },
  {
   "cell_type": "code",
   "execution_count": 27,
   "id": "a2389be8-f957-4492-9c92-4deaa3b8b890",
   "metadata": {},
   "outputs": [],
   "source": [
    "# @dataclass\n",
    "class User2:\n",
    "    id: int\n",
    "    username: str\n",
    "    email: str\n",
    "    password: str\n",
    "    role: str = \"user\"\n",
    "    created_at: str = \"\"\n",
    "    last_login: str = \"\"\n",
    "    active: bool = True"
   ]
  },
  {
   "cell_type": "code",
   "execution_count": 39,
   "id": "515b85e8-e360-45cc-a1fe-ae3561f564de",
   "metadata": {},
   "outputs": [],
   "source": [
    "user2 = db.create(User2, pk=(\"id\", \"username\"))"
   ]
  },
  {
   "cell_type": "code",
   "execution_count": 40,
   "id": "623038b6-6fa6-44c4-a806-5a2c22779058",
   "metadata": {},
   "outputs": [
    {
     "data": {
      "text/markdown": [
       "```sql\n",
       "CREATE TABLE [user2] (\n",
       "   [id] INTEGER,\n",
       "   [username] TEXT,\n",
       "   [email] TEXT,\n",
       "   [password] TEXT,\n",
       "   [role] TEXT,\n",
       "   [created_at] TEXT,\n",
       "   [last_login] TEXT,\n",
       "   [active] INTEGER,\n",
       "   PRIMARY KEY ([id], [username])\n",
       ")\n",
       "```"
      ],
      "text/plain": [
       "<IPython.core.display.Markdown object>"
      ]
     },
     "execution_count": 40,
     "metadata": {},
     "output_type": "execute_result"
    }
   ],
   "source": [
    "hl_md(user2.schema, \"sql\")\n"
   ]
  },
  {
   "cell_type": "code",
   "execution_count": 41,
   "id": "49dff503-ff3a-4d6e-a808-d033a5a3853d",
   "metadata": {},
   "outputs": [
    {
     "data": {
      "text/plain": [
       "User2(id=None, username='user2', email='u2@mail.com', password='def', role='user', created_at='', last_login='', active=1)"
      ]
     },
     "execution_count": 41,
     "metadata": {},
     "output_type": "execute_result"
    }
   ],
   "source": [
    "user2.insert(User2(username=\"user1\", email=\"u1@mail.com\", role=\"user\", password=\"abc\"))\n",
    "user2.insert(User2(username=\"user2\", email=\"u2@mail.com\", role=\"user\", password=\"def\"))"
   ]
  },
  {
   "cell_type": "code",
   "execution_count": 43,
   "id": "35a7f65b-3426-4f33-8da2-8828b88d00c4",
   "metadata": {},
   "outputs": [
    {
     "data": {
      "text/plain": [
       "[User2(id=None, username='user1', email='u1@mail.com', password='abc', role='user', created_at='', last_login='', active=1)]"
      ]
     },
     "execution_count": 43,
     "metadata": {},
     "output_type": "execute_result"
    }
   ],
   "source": [
    "user2(\"username=?\", ('user1',))\n"
   ]
  },
  {
   "cell_type": "code",
   "execution_count": null,
   "id": "89594da4-69c9-47a6-9b0b-e968a35f8093",
   "metadata": {},
   "outputs": [],
   "source": []
  },
  {
   "cell_type": "code",
   "execution_count": 81,
   "id": "47524450-7f0e-4b50-b207-e53a381a2779",
   "metadata": {},
   "outputs": [],
   "source": [
    "def get_by_username(username: str) -> Optional[User]:\n",
    "    try:\n",
    "        user = user2(\"username=?\", (username,))\n",
    "        if len(user) == 1:\n",
    "            return user[0]  # Return the single user object\n",
    "        elif len(user) == 0:\n",
    "            return None\n",
    "        else:\n",
    "            raise Exception(f\"Multiple users found: {len(user)}\")\n",
    "    except Exception as e:\n",
    "        print(f\"Error in get_by_username: {e}\")\n",
    "        return None"
   ]
  },
  {
   "cell_type": "code",
   "execution_count": 82,
   "id": "f412d847-e5db-4a38-8c15-98ef39ed943b",
   "metadata": {},
   "outputs": [
    {
     "data": {
      "text/plain": [
       "User2(id=None, username='user1', email='u1@mail.com', password='abc', role='user', created_at='', last_login='', active=1)"
      ]
     },
     "execution_count": 82,
     "metadata": {},
     "output_type": "execute_result"
    }
   ],
   "source": [
    "get_by_username(\"user1\")"
   ]
  },
  {
   "cell_type": "markdown",
   "id": "f528af8c-cd29-4e37-ac8e-13b1bc070f7c",
   "metadata": {},
   "source": [
    "The good thing about this approach is that it returns a dataclass object and not a dictionary"
   ]
  },
  {
   "cell_type": "code",
   "execution_count": 83,
   "id": "e263bf8a-ed96-4fda-ad53-7addb41d467a",
   "metadata": {},
   "outputs": [],
   "source": [
    "# Now add in a class method to update the last_login field"
   ]
  },
  {
   "cell_type": "code",
   "execution_count": 84,
   "id": "406fe32c-5f13-4424-a616-fffa33c6b87f",
   "metadata": {},
   "outputs": [],
   "source": [
    "from datetime import datetime"
   ]
  },
  {
   "cell_type": "code",
   "execution_count": 87,
   "id": "2fdd2dd8-2e3f-43b7-bdc7-95f75bde1f21",
   "metadata": {},
   "outputs": [],
   "source": [
    "# @dataclass\n",
    "class User3:\n",
    "    id: int\n",
    "    username: str\n",
    "    email: str\n",
    "    password: str\n",
    "    role: str = \"user\"\n",
    "    created_at: str = \"\"\n",
    "    last_login: str = \"\"\n",
    "    active: bool = True\n",
    "    pk=\"id\"\n",
    "\n",
    "    def __post_init__(self):\n",
    "        now = datetime.now().isoformat()\n",
    "        if not self.created_at:\n",
    "            self.created_at = now\n",
    "        if not self.last_login:\n",
    "            self.last_login = now"
   ]
  },
  {
   "cell_type": "code",
   "execution_count": 89,
   "id": "7f5a434a-6954-4abe-ba41-2797ef60d4dd",
   "metadata": {},
   "outputs": [],
   "source": [
    "user3 = db.create(User3, pk=User3.pk)"
   ]
  },
  {
   "cell_type": "code",
   "execution_count": null,
   "id": "39adfa5a-382a-42b5-a11a-254b7fdfc465",
   "metadata": {},
   "outputs": [],
   "source": [
    "def update(table, user_id: int, **kwargs) -> bool:\n",
    "    \"\"\"Update user fields\"\"\"\n",
    "    try:\n",
    "        table.update(kwargs, user_id)\n",
    "        return True\n",
    "    except Exception as e:\n",
    "        print(f\"Error updating user {user_id}: {e}\")\n",
    "        return False"
   ]
  },
  {
   "cell_type": "code",
   "execution_count": 109,
   "id": "14e772cc-1818-4a48-9cfb-8fb1dcdfeace",
   "metadata": {},
   "outputs": [],
   "source": [
    "test_user = User3(username=\"user3\", email=\"u3@mail.com\", role=\"user\", password=\"abcd\")"
   ]
  },
  {
   "cell_type": "code",
   "execution_count": 110,
   "id": "244ee3c1-0085-4263-a43e-de9a0c1ed9a5",
   "metadata": {},
   "outputs": [
    {
     "name": "stdout",
     "output_type": "stream",
     "text": [
      "User3(id=UNSET, username='user3', email='u3@mail.com', password='abcd', role='user', created_at='2025-09-01T15:43:16.181608', last_login='2025-09-01T15:43:16.181608', active=True)\n"
     ]
    }
   ],
   "source": [
    "print(test_user)"
   ]
  },
  {
   "cell_type": "code",
   "execution_count": 111,
   "id": "9459df8f-6a90-4f0d-b3f4-e3a29e148c23",
   "metadata": {},
   "outputs": [
    {
     "data": {
      "text/plain": [
       "User3(id=3, username='user3', email='u3@mail.com', password='abcd', role='user', created_at='2025-09-01T15:43:16.181608', last_login='2025-09-01T15:43:16.181608', active=1)"
      ]
     },
     "execution_count": 111,
     "metadata": {},
     "output_type": "execute_result"
    }
   ],
   "source": [
    "user3.insert(test_user)"
   ]
  },
  {
   "cell_type": "code",
   "execution_count": 90,
   "id": "d9a68573-f428-4399-8391-10f474f10877",
   "metadata": {},
   "outputs": [
    {
     "data": {
      "text/plain": [
       "User3(id=2, username='user2', email='u2@mail.com', password='def', role='user', created_at='2025-08-29T17:43:05.657593', last_login='2025-08-29T17:43:05.657593', active=1)"
      ]
     },
     "execution_count": 90,
     "metadata": {},
     "output_type": "execute_result"
    }
   ],
   "source": [
    "user3.insert(User3(username=\"user1\", email=\"u1@mail.com\", role=\"user\", password=\"abc\"))\n",
    "user3.insert(User3(username=\"user2\", email=\"u2@mail.com\", role=\"user\", password=\"def\"))"
   ]
  },
  {
   "cell_type": "code",
   "execution_count": 102,
   "id": "bea9d992-162c-4a9e-a855-f10e4655e755",
   "metadata": {},
   "outputs": [
    {
     "data": {
      "text/plain": [
       "User3(id=1, username='user1', email='u1@mail.com', password='abc', role='user', created_at='2025-08-29T17:43:05.656197', last_login='2025-08-29T17:43:05.656197', active=1)"
      ]
     },
     "execution_count": 102,
     "metadata": {},
     "output_type": "execute_result"
    }
   ],
   "source": [
    "test_user = user3(\"username=?\", ('user1',))[0]\n",
    "test_user"
   ]
  },
  {
   "cell_type": "code",
   "execution_count": 105,
   "id": "992dcceb-491f-4875-bf9c-0e47082c1a46",
   "metadata": {},
   "outputs": [],
   "source": [
    "now = datetime.now().isoformat()"
   ]
  },
  {
   "cell_type": "code",
   "execution_count": 104,
   "id": "16cb4208-d9cf-47b1-8efc-fc1947509558",
   "metadata": {},
   "outputs": [
    {
     "data": {
      "text/plain": [
       "User3(id=1, username='user1', email='u1@mail.com', password='abc', role='user', created_at='2025-08-29T17:43:05.656197', last_login='2025-08-29T17:49:06.046949', active=1)"
      ]
     },
     "execution_count": 104,
     "metadata": {},
     "output_type": "execute_result"
    }
   ],
   "source": [
    "user3.update({\"last_login\": now, \"id\": test_user.id})"
   ]
  },
  {
   "cell_type": "code",
   "execution_count": 107,
   "id": "2ff750c8-e465-4543-9a2b-dcb27ce95d5a",
   "metadata": {},
   "outputs": [
    {
     "data": {
      "text/plain": [
       "User3(id=1, username='user1', email='u1@mail.com', password='abc', role='user', created_at='2025-08-29T17:43:05.656197', last_login='2025-08-29T17:52:22.658774', active=1)"
      ]
     },
     "execution_count": 107,
     "metadata": {},
     "output_type": "execute_result"
    }
   ],
   "source": [
    "user3.update(last_login=now,  id=test_user.id)"
   ]
  },
  {
   "cell_type": "code",
   "execution_count": null,
   "id": "9f19c8f0-52f0-4137-8521-8e3b9cd23c0b",
   "metadata": {},
   "outputs": [],
   "source": []
  }
 ],
 "metadata": {
  "kernelspec": {
   "display_name": "Python 3 (ipykernel)",
   "language": "python",
   "name": "python3"
  },
  "language_info": {
   "codemirror_mode": {
    "name": "ipython",
    "version": 3
   },
   "file_extension": ".py",
   "mimetype": "text/x-python",
   "name": "python",
   "nbconvert_exporter": "python",
   "pygments_lexer": "ipython3",
   "version": "3.13.7"
  }
 },
 "nbformat": 4,
 "nbformat_minor": 5
}
